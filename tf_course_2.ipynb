{
  "nbformat": 4,
  "nbformat_minor": 0,
  "metadata": {
    "colab": {
      "provenance": [],
      "authorship_tag": "ABX9TyOu9g3Ed5Bn7M6M0wlRAM22",
      "include_colab_link": true
    },
    "kernelspec": {
      "name": "python3",
      "display_name": "Python 3"
    },
    "language_info": {
      "name": "python"
    }
  },
  "cells": [
    {
      "cell_type": "markdown",
      "metadata": {
        "id": "view-in-github",
        "colab_type": "text"
      },
      "source": [
        "<a href=\"https://colab.research.google.com/github/sexymonster/tensorflow/blob/main/tf_course_2.ipynb\" target=\"_parent\"><img src=\"https://colab.research.google.com/assets/colab-badge.svg\" alt=\"Open In Colab\"/></a>"
      ]
    },
    {
      "cell_type": "markdown",
      "source": [
        "# 라이브러리 불러오기"
      ],
      "metadata": {
        "id": "chQheUOvT_bD"
      }
    },
    {
      "cell_type": "code",
      "execution_count": 5,
      "metadata": {
        "id": "dB8c27WqSidf"
      },
      "outputs": [],
      "source": [
        "import tensorflow as tf"
      ]
    },
    {
      "cell_type": "code",
      "source": [
        "tf.__version__"
      ],
      "metadata": {
        "colab": {
          "base_uri": "https://localhost:8080/",
          "height": 35
        },
        "id": "kMts1Gq0TKrh",
        "outputId": "8db9ff78-c8a9-4a61-e624-297f49cb7699"
      },
      "execution_count": 6,
      "outputs": [
        {
          "output_type": "execute_result",
          "data": {
            "text/plain": [
              "'2.9.2'"
            ],
            "application/vnd.google.colaboratory.intrinsic+json": {
              "type": "string"
            }
          },
          "metadata": {},
          "execution_count": 6
        }
      ]
    },
    {
      "cell_type": "code",
      "source": [
        "# GIF를 만들기위해 설치\n",
        "!pip install -q imageio"
      ],
      "metadata": {
        "id": "d4_UqanuTNAB"
      },
      "execution_count": 7,
      "outputs": []
    },
    {
      "cell_type": "code",
      "source": [
        "import glob\n",
        "import imageio\n",
        "import matplotlib.pyplot as plt\n",
        "import numpy as np\n",
        "import os\n",
        "import PIL\n",
        "from tensorflow.keras import layers\n",
        "import time\n",
        "\n",
        "from IPython import display"
      ],
      "metadata": {
        "id": "EwJBod-XTg0P"
      },
      "execution_count": 8,
      "outputs": []
    },
    {
      "cell_type": "markdown",
      "source": [
        "# 데이터셋 로딩 및 준비"
      ],
      "metadata": {
        "id": "NPfprbEATpTt"
      }
    },
    {
      "cell_type": "markdown",
      "source": [
        "생성자와 감별자를 훈련하기위해 MNIST 데이터셋을 사용할것입니다."
      ],
      "metadata": {
        "id": "PIP3E_qbUIa4"
      }
    },
    {
      "cell_type": "code",
      "source": [
        "(train_images, train_labels), (_, _) = tf.keras.datasets.mnist.load_data()"
      ],
      "metadata": {
        "colab": {
          "base_uri": "https://localhost:8080/"
        },
        "id": "oUXJzCUuTgxn",
        "outputId": "5a9adcf2-c6a0-4033-fa1c-0ace3a989b05"
      },
      "execution_count": 9,
      "outputs": [
        {
          "output_type": "stream",
          "name": "stdout",
          "text": [
            "Downloading data from https://storage.googleapis.com/tensorflow/tf-keras-datasets/mnist.npz\n",
            "11490434/11490434 [==============================] - 0s 0us/step\n"
          ]
        }
      ]
    },
    {
      "cell_type": "code",
      "source": [
        "train_images.shape"
      ],
      "metadata": {
        "colab": {
          "base_uri": "https://localhost:8080/"
        },
        "id": "Rb6fIbwJUlsn",
        "outputId": "f4acb43a-4480-4323-878c-8eb2db7f62f4"
      },
      "execution_count": 12,
      "outputs": [
        {
          "output_type": "execute_result",
          "data": {
            "text/plain": [
              "(60000, 28, 28)"
            ]
          },
          "metadata": {},
          "execution_count": 12
        }
      ]
    },
    {
      "cell_type": "code",
      "source": [
        "# 트레인 이미지 데이터의 차원 확장\n",
        "train_images = train_images.reshape(train_images.shape[0], 28, 28, 1).astype('float32')\n",
        "# 이미지를 [-1,1]로 정규화\n",
        "train_images = (train_images - 127.5) / 127.5"
      ],
      "metadata": {
        "id": "Y68RxpskTgv1"
      },
      "execution_count": 13,
      "outputs": []
    },
    {
      "cell_type": "code",
      "source": [
        "train_images.shape, train_images[0][10]"
      ],
      "metadata": {
        "colab": {
          "base_uri": "https://localhost:8080/"
        },
        "id": "EL3uA9udTgth",
        "outputId": "4ad1e0de-8df0-42a1-c96f-b3f096949bc2"
      },
      "execution_count": 16,
      "outputs": [
        {
          "output_type": "execute_result",
          "data": {
            "text/plain": [
              "((60000, 28, 28, 1), array([[-1.        ],\n",
              "        [-1.        ],\n",
              "        [-1.        ],\n",
              "        [-1.        ],\n",
              "        [-1.        ],\n",
              "        [-1.        ],\n",
              "        [-1.        ],\n",
              "        [-1.        ],\n",
              "        [-1.        ],\n",
              "        [-0.8901961 ],\n",
              "        [-0.99215686],\n",
              "        [ 0.20784314],\n",
              "        [ 0.9843137 ],\n",
              "        [-0.29411766],\n",
              "        [-1.        ],\n",
              "        [-1.        ],\n",
              "        [-1.        ],\n",
              "        [-1.        ],\n",
              "        [-1.        ],\n",
              "        [-1.        ],\n",
              "        [-1.        ],\n",
              "        [-1.        ],\n",
              "        [-1.        ],\n",
              "        [-1.        ],\n",
              "        [-1.        ],\n",
              "        [-1.        ],\n",
              "        [-1.        ],\n",
              "        [-1.        ]], dtype=float32))"
            ]
          },
          "metadata": {},
          "execution_count": 16
        }
      ]
    },
    {
      "cell_type": "code",
      "source": [],
      "metadata": {
        "id": "YWRcRPNpVOmj"
      },
      "execution_count": null,
      "outputs": []
    }
  ]
}